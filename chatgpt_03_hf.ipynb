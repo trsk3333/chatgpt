{
  "nbformat": 4,
  "nbformat_minor": 0,
  "metadata": {
    "colab": {
      "provenance": [],
      "authorship_tag": "ABX9TyP31becq9EdZZvaUiTu+N40",
      "include_colab_link": true
    },
    "kernelspec": {
      "name": "python3",
      "display_name": "Python 3"
    },
    "language_info": {
      "name": "python"
    }
  },
  "cells": [
    {
      "cell_type": "markdown",
      "metadata": {
        "id": "view-in-github",
        "colab_type": "text"
      },
      "source": [
        "<a href=\"https://colab.research.google.com/github/trsk3333/chatgpt/blob/main/chatgpt_03_hf.ipynb\" target=\"_parent\"><img src=\"https://colab.research.google.com/assets/colab-badge.svg\" alt=\"Open In Colab\"/></a>"
      ]
    },
    {
      "cell_type": "markdown",
      "source": [
        "# ChatGpt 3 házifeladat"
      ],
      "metadata": {
        "id": "MT_FdqijK3v-"
      }
    },
    {
      "cell_type": "markdown",
      "source": [
        "## A feladat megoldása ChatGpt-vel:"
      ],
      "metadata": {
        "id": "B8DJchBEPJ1b"
      }
    },
    {
      "cell_type": "markdown",
      "source": [
        "### Promt:"
      ],
      "metadata": {
        "id": "1Bcs-iKgPXNN"
      }
    },
    {
      "cell_type": "markdown",
      "source": [
        "Egy senior python fejlesztő vagy, aki szintén ért a matematikához, azon belül a kedvenc területed a gráfelmélet. A feladatod a következő: Írj egy olyan programot ami megkeresi az alábbi szövegben az összes alanyt, állítmányt és tárgyat, majd készít egy gráfot pythonban! A gráf élei legyenek az állítmányok, csúcsai az alany és a tárgy.\n",
        "\n",
        "Rejtő Jenő (született Reich, írói álnevei: P. Howard, Gibson Lavery) (Budapest, Erzsébetváros, 1905. március 29.[6] – Jevdakovo(wd), Kamenkai járás, Voronyezsi terület, oroszországi megszállt övezet, Szovjetunió, 1943. január 1.) magyar író, kabaré- és színpadi szerző, filmíró, a magyar szórakoztató irodalom népszerű képviselője és megújítója.\n",
        "\n",
        "Legismertebb művei látszatra ponyvaregények, azonban életművét ma már nagyra értékelik. Kamaszkorában verseket írt (ezeket nem publikálta), majd 1928-tól komor hangulatú novellákat adott közre a napisajtóban. Az 1930-as évek elején kabarédarabokkal és bohózatokkal jelentkezett a pesti színpadokon. Ezzel egyidőben füzetes ponyvákat, majd operetteket, végül – részben külföldi utazásai során szerzett élményeire támaszkodva – kalandregényeket alkotott. Sajátos stílusát egyéni, groteszk, nyelvi humor és „váratlan abszurd fordulatok, szürreális, gyakran kispolgári figurák és a társadalom fanyar humorba csomagolt kritikája”[7] jellemezte. Legnagyobb sikereit P. Howard álnéven írott ponyvaparódiáival aratta, olvasottsága[8] a Kádár-korban Jókai Móréval vetekedett. A pesti művészi élet ismert alakja volt, barátság fűzte a kor jelentős művészeihez, így például Karinthy Frigyeshez,[9] Kabos Gyulához, Latabár Kálmánhoz, Salamon Bélához is."
      ],
      "metadata": {
        "id": "qSJvVYmePcgO"
      }
    },
    {
      "cell_type": "markdown",
      "source": [
        "### Megoldás (hibás)"
      ],
      "metadata": {
        "id": "JUvj8exRQM7S"
      }
    },
    {
      "cell_type": "code",
      "execution_count": 11,
      "metadata": {
        "colab": {
          "base_uri": "https://localhost:8080/",
          "height": 356
        },
        "id": "c6JrLF4EK0wb",
        "outputId": "dd6cd77c-db9d-4ddb-c5f4-a831c222fdf4"
      },
      "outputs": [
        {
          "output_type": "error",
          "ename": "OSError",
          "evalue": "[E050] Can't find model 'hu_core_news_lg'. It doesn't seem to be a Python package or a valid path to a data directory.",
          "traceback": [
            "\u001b[0;31m---------------------------------------------------------------------------\u001b[0m",
            "\u001b[0;31mOSError\u001b[0m                                   Traceback (most recent call last)",
            "\u001b[0;32m<ipython-input-11-2dbcb5c78e9d>\u001b[0m in \u001b[0;36m<cell line: 0>\u001b[0;34m()\u001b[0m\n\u001b[1;32m     45\u001b[0m \u001b[0;32mif\u001b[0m \u001b[0m__name__\u001b[0m \u001b[0;34m==\u001b[0m \u001b[0;34m\"__main__\"\u001b[0m\u001b[0;34m:\u001b[0m\u001b[0;34m\u001b[0m\u001b[0;34m\u001b[0m\u001b[0m\n\u001b[1;32m     46\u001b[0m     \u001b[0mtext\u001b[0m \u001b[0;34m=\u001b[0m \u001b[0;34m\"\"\"Rejtő Jenő legismertebb művei látszatra ponyvaregények. Életművét értékelik. Verseket írt. Novellákat adott közre.\"\"\"\u001b[0m\u001b[0;34m\u001b[0m\u001b[0;34m\u001b[0m\u001b[0m\n\u001b[0;32m---> 47\u001b[0;31m     \u001b[0mspo_list\u001b[0m \u001b[0;34m=\u001b[0m \u001b[0mextract_spo\u001b[0m\u001b[0;34m(\u001b[0m\u001b[0mtext\u001b[0m\u001b[0;34m)\u001b[0m\u001b[0;34m\u001b[0m\u001b[0;34m\u001b[0m\u001b[0m\n\u001b[0m\u001b[1;32m     48\u001b[0m     \u001b[0;32mif\u001b[0m \u001b[0mspo_list\u001b[0m\u001b[0;34m:\u001b[0m\u001b[0;34m\u001b[0m\u001b[0;34m\u001b[0m\u001b[0m\n\u001b[1;32m     49\u001b[0m         \u001b[0mG\u001b[0m \u001b[0;34m=\u001b[0m \u001b[0mcreate_graph\u001b[0m\u001b[0;34m(\u001b[0m\u001b[0mspo_list\u001b[0m\u001b[0;34m)\u001b[0m\u001b[0;34m\u001b[0m\u001b[0;34m\u001b[0m\u001b[0m\n",
            "\u001b[0;32m<ipython-input-11-2dbcb5c78e9d>\u001b[0m in \u001b[0;36mextract_spo\u001b[0;34m(text)\u001b[0m\n\u001b[1;32m      4\u001b[0m \u001b[0;34m\u001b[0m\u001b[0m\n\u001b[1;32m      5\u001b[0m \u001b[0;32mdef\u001b[0m \u001b[0mextract_spo\u001b[0m\u001b[0;34m(\u001b[0m\u001b[0mtext\u001b[0m\u001b[0;34m)\u001b[0m\u001b[0;34m:\u001b[0m\u001b[0;34m\u001b[0m\u001b[0;34m\u001b[0m\u001b[0m\n\u001b[0;32m----> 6\u001b[0;31m     \u001b[0mnlp\u001b[0m \u001b[0;34m=\u001b[0m \u001b[0mspacy\u001b[0m\u001b[0;34m.\u001b[0m\u001b[0mload\u001b[0m\u001b[0;34m(\u001b[0m\u001b[0;34m\"hu_core_news_lg\"\u001b[0m\u001b[0;34m)\u001b[0m  \u001b[0;31m# Magyar nyelvű NLP modell\u001b[0m\u001b[0;34m\u001b[0m\u001b[0;34m\u001b[0m\u001b[0m\n\u001b[0m\u001b[1;32m      7\u001b[0m \u001b[0;34m\u001b[0m\u001b[0m\n\u001b[1;32m      8\u001b[0m     \u001b[0mdoc\u001b[0m \u001b[0;34m=\u001b[0m \u001b[0mnlp\u001b[0m\u001b[0;34m(\u001b[0m\u001b[0mtext\u001b[0m\u001b[0;34m)\u001b[0m\u001b[0;34m\u001b[0m\u001b[0;34m\u001b[0m\u001b[0m\n",
            "\u001b[0;32m/usr/local/lib/python3.11/dist-packages/spacy/__init__.py\u001b[0m in \u001b[0;36mload\u001b[0;34m(name, vocab, disable, enable, exclude, config)\u001b[0m\n\u001b[1;32m     49\u001b[0m     \u001b[0mRETURNS\u001b[0m \u001b[0;34m(\u001b[0m\u001b[0mLanguage\u001b[0m\u001b[0;34m)\u001b[0m\u001b[0;34m:\u001b[0m \u001b[0mThe\u001b[0m \u001b[0mloaded\u001b[0m \u001b[0mnlp\u001b[0m \u001b[0mobject\u001b[0m\u001b[0;34m.\u001b[0m\u001b[0;34m\u001b[0m\u001b[0;34m\u001b[0m\u001b[0m\n\u001b[1;32m     50\u001b[0m     \"\"\"\n\u001b[0;32m---> 51\u001b[0;31m     return util.load_model(\n\u001b[0m\u001b[1;32m     52\u001b[0m         \u001b[0mname\u001b[0m\u001b[0;34m,\u001b[0m\u001b[0;34m\u001b[0m\u001b[0;34m\u001b[0m\u001b[0m\n\u001b[1;32m     53\u001b[0m         \u001b[0mvocab\u001b[0m\u001b[0;34m=\u001b[0m\u001b[0mvocab\u001b[0m\u001b[0;34m,\u001b[0m\u001b[0;34m\u001b[0m\u001b[0;34m\u001b[0m\u001b[0m\n",
            "\u001b[0;32m/usr/local/lib/python3.11/dist-packages/spacy/util.py\u001b[0m in \u001b[0;36mload_model\u001b[0;34m(name, vocab, disable, enable, exclude, config)\u001b[0m\n\u001b[1;32m    470\u001b[0m     \u001b[0;32mif\u001b[0m \u001b[0mname\u001b[0m \u001b[0;32min\u001b[0m \u001b[0mOLD_MODEL_SHORTCUTS\u001b[0m\u001b[0;34m:\u001b[0m\u001b[0;34m\u001b[0m\u001b[0;34m\u001b[0m\u001b[0m\n\u001b[1;32m    471\u001b[0m         \u001b[0;32mraise\u001b[0m \u001b[0mIOError\u001b[0m\u001b[0;34m(\u001b[0m\u001b[0mErrors\u001b[0m\u001b[0;34m.\u001b[0m\u001b[0mE941\u001b[0m\u001b[0;34m.\u001b[0m\u001b[0mformat\u001b[0m\u001b[0;34m(\u001b[0m\u001b[0mname\u001b[0m\u001b[0;34m=\u001b[0m\u001b[0mname\u001b[0m\u001b[0;34m,\u001b[0m \u001b[0mfull\u001b[0m\u001b[0;34m=\u001b[0m\u001b[0mOLD_MODEL_SHORTCUTS\u001b[0m\u001b[0;34m[\u001b[0m\u001b[0mname\u001b[0m\u001b[0;34m]\u001b[0m\u001b[0;34m)\u001b[0m\u001b[0;34m)\u001b[0m  \u001b[0;31m# type: ignore[index]\u001b[0m\u001b[0;34m\u001b[0m\u001b[0;34m\u001b[0m\u001b[0m\n\u001b[0;32m--> 472\u001b[0;31m     \u001b[0;32mraise\u001b[0m \u001b[0mIOError\u001b[0m\u001b[0;34m(\u001b[0m\u001b[0mErrors\u001b[0m\u001b[0;34m.\u001b[0m\u001b[0mE050\u001b[0m\u001b[0;34m.\u001b[0m\u001b[0mformat\u001b[0m\u001b[0;34m(\u001b[0m\u001b[0mname\u001b[0m\u001b[0;34m=\u001b[0m\u001b[0mname\u001b[0m\u001b[0;34m)\u001b[0m\u001b[0;34m)\u001b[0m\u001b[0;34m\u001b[0m\u001b[0;34m\u001b[0m\u001b[0m\n\u001b[0m\u001b[1;32m    473\u001b[0m \u001b[0;34m\u001b[0m\u001b[0m\n\u001b[1;32m    474\u001b[0m \u001b[0;34m\u001b[0m\u001b[0m\n",
            "\u001b[0;31mOSError\u001b[0m: [E050] Can't find model 'hu_core_news_lg'. It doesn't seem to be a Python package or a valid path to a data directory."
          ]
        }
      ],
      "source": [
        "import spacy\n",
        "import networkx as nx\n",
        "import matplotlib.pyplot as plt\n",
        "\n",
        "def extract_spo(text):\n",
        "    nlp = spacy.load(\"hu_core_news_lg\")  # Magyar nyelvű NLP modell\n",
        "\n",
        "    doc = nlp(text)\n",
        "    spo_list = []\n",
        "\n",
        "    for sent in doc.sents:\n",
        "        subject, predicate, obj = None, None, None\n",
        "\n",
        "        for token in sent:\n",
        "            if \"nsubj\" in token.dep_:\n",
        "                subject = token.text\n",
        "            elif \"ROOT\" in token.dep_:\n",
        "                predicate = token.text\n",
        "            elif \"obj\" in token.dep_:\n",
        "                obj = token.text\n",
        "\n",
        "        if subject and predicate and obj:\n",
        "            spo_list.append((subject, predicate, obj))\n",
        "\n",
        "    return spo_list\n",
        "\n",
        "def create_graph(spo_list):\n",
        "    G = nx.DiGraph()\n",
        "\n",
        "    for subject, predicate, obj in spo_list:\n",
        "        G.add_edge(subject, obj, label=predicate)\n",
        "\n",
        "    return G\n",
        "\n",
        "def draw_graph(G):\n",
        "    pos = nx.spring_layout(G)\n",
        "    plt.figure(figsize=(10, 6))\n",
        "\n",
        "    nx.draw(G, pos, with_labels=True, node_color='lightblue', edge_color='gray', node_size=2000, font_size=10)\n",
        "    edge_labels = {(u, v): d['label'] for u, v, d in G.edges(data=True)}\n",
        "    nx.draw_networkx_edge_labels(G, pos, edge_labels=edge_labels, font_size=10)\n",
        "\n",
        "    plt.show()\n",
        "\n",
        "if __name__ == \"__main__\":\n",
        "    text = \"\"\"Rejtő Jenő legismertebb művei látszatra ponyvaregények. Életművét értékelik. Verseket írt. Novellákat adott közre.\"\"\"\n",
        "    spo_list = extract_spo(text)\n",
        "    if spo_list:\n",
        "        G = create_graph(spo_list)\n",
        "        draw_graph(G)\n",
        "\n"
      ]
    },
    {
      "cell_type": "markdown",
      "source": [
        "Javítva:"
      ],
      "metadata": {
        "id": "pQY5UF_kV9uS"
      }
    },
    {
      "cell_type": "code",
      "source": [
        "!pip install hu_core_news_lg@https://huggingface.co/huspacy/hu_core_news_lg/resolve/main/hu_core_news_lg-any-py3-none-any.whl"
      ],
      "metadata": {
        "id": "Ti2Gae9XY50o"
      },
      "execution_count": null,
      "outputs": []
    },
    {
      "cell_type": "code",
      "source": [
        "%matplotlib inline"
      ],
      "metadata": {
        "id": "7QtDyGulcIKu"
      },
      "execution_count": 10,
      "outputs": []
    },
    {
      "cell_type": "code",
      "source": [
        "import spacy\n",
        "import networkx as nx\n",
        "import matplotlib.pyplot as plt\n",
        "\n",
        "def extract_spo(text):\n",
        "    try:\n",
        "        nlp = spacy.load(\"hu_core_news_lg\")\n",
        "    except OSError:\n",
        "        print(\"A 'hu_core_news_trf' modell nincs telepítve. Telepítsd a következő paranccsal:\")\n",
        "        print(\"pip install hu_core_news_lg@https://huggingface.co/huspacy/hu_core_news_lg/resolve/main/hu_core_news_lg-any-py3-none-any.whl\")\n",
        "        return []\n",
        "\n",
        "    doc = nlp(text)\n",
        "    spo_list = []\n",
        "\n",
        "    for sent in doc.sents:\n",
        "        subject, predicate, obj = None, None, None\n",
        "\n",
        "        for token in sent:\n",
        "            if \"nsubj\" in token.dep_:\n",
        "                subject = token.text\n",
        "            elif \"ROOT\" in token.dep_:\n",
        "                predicate = token.text\n",
        "            elif \"obj\" in token.dep_:\n",
        "                obj = token.text\n",
        "\n",
        "        if subject and predicate and obj:\n",
        "            spo_list.append((subject, predicate, obj))\n",
        "\n",
        "    return spo_list\n",
        "\n",
        "def create_graph(spo_list):\n",
        "    G = nx.DiGraph()\n",
        "\n",
        "    for subject, predicate, obj in spo_list:\n",
        "        G.add_edge(subject, obj, label=predicate)\n",
        "\n",
        "    return G\n",
        "\n",
        "def draw_graph(G):\n",
        "    pos = nx.spring_layout(G)\n",
        "    plt.figure(figsize=(10, 6))\n",
        "\n",
        "    nx.draw(G, pos, with_labels=True, node_color='lightblue', edge_color='gray', node_size=2000, font_size=10)\n",
        "    edge_labels = {(u, v): d['label'] for u, v, d in G.edges(data=True)}\n",
        "    nx.draw_networkx_edge_labels(G, pos, edge_labels=edge_labels, font_size=10)\n",
        "\n",
        "    plt.show()\n",
        "\n",
        "if __name__ == \"__main__\":\n",
        "    text = \"\"\"Rejtő Jenő (született Reich, írói álnevei: P. Howard, Gibson Lavery) (Budapest, Erzsébetváros, 1905. március 29.[6] – Jevdakovo(wd), Kamenkai járás, Voronyezsi terület, oroszországi megszállt övezet, Szovjetunió, 1943. január 1.) magyar író, kabaré- és színpadi szerző, filmíró, a magyar szórakoztató irodalom népszerű képviselője és megújítója. Legismertebb művei látszatra ponyvaregények, azonban életművét ma már nagyra értékelik. Kamaszkorában verseket írt (ezeket nem publikálta), majd 1928-tól komor hangulatú novellákat adott közre a napisajtóban. Az 1930-as évek elején kabarédarabokkal és bohózatokkal jelentkezett a pesti színpadokon. Ezzel egyidőben füzetes ponyvákat, majd operetteket, végül – részben külföldi utazásai során szerzett élményeire támaszkodva – kalandregényeket alkotott. Sajátos stílusát egyéni, groteszk, nyelvi humor és „váratlan abszurd fordulatok, szürreális, gyakran kispolgári figurák és a társadalom fanyar humorba csomagolt kritikája”[7] jellemezte. Legnagyobb sikereit P. Howard álnéven írott ponyvaparódiáival aratta, olvasottsága[8] a Kádár-korban Jókai Móréval vetekedett. A pesti művészi élet ismert alakja volt, barátság fűzte a kor jelentős művészeihez, így például Karinthy Frigyeshez,[9] Kabos Gyulához, Latabár Kálmánhoz, Salamon Bélához is.\"\"\"\n",
        "    spo_list = extract_spo(text)\n",
        "    if spo_list:\n",
        "        G = create_graph(spo_list)\n",
        "        draw_graph(G)\n",
        "\n"
      ],
      "metadata": {
        "colab": {
          "base_uri": "https://localhost:8080/",
          "height": 636
        },
        "id": "_C5JAwzqWAdH",
        "outputId": "e51c6253-bb9f-449c-dec4-b80202ed19fe"
      },
      "execution_count": 11,
      "outputs": [
        {
          "output_type": "display_data",
          "data": {
            "text/plain": [
              "<Figure size 1000x600 with 1 Axes>"
            ],
            "image/png": "[encoded data removed]"
          },
          "metadata": {}
        }
      ]
    }
  ]
}