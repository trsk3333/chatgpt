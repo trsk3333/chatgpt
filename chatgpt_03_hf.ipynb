{
  "nbformat": 4,
  "nbformat_minor": 0,
  "metadata": {
    "colab": {
      "provenance": [],
      "authorship_tag": "ABX9TyPUz7ZbnhA7LoIaA0TtRvsE",
      "include_colab_link": true
    },
    "kernelspec": {
      "name": "python3",
      "display_name": "Python 3"
    },
    "language_info": {
      "name": "python"
    }
  },
  "cells": [
    {
      "cell_type": "markdown",
      "metadata": {
        "id": "view-in-github",
        "colab_type": "text"
      },
      "source": [
        "<a href=\"https://colab.research.google.com/github/trsk3333/chatgpt/blob/main/chatgpt_03_hf.ipynb\" target=\"_parent\"><img src=\"https://colab.research.google.com/assets/colab-badge.svg\" alt=\"Open In Colab\"/></a>"
      ]
    },
    {
      "cell_type": "markdown",
      "source": [
        "# ChatGpt 3 házifeladat"
      ],
      "metadata": {
        "id": "MT_FdqijK3v-"
      }
    },
    {
      "cell_type": "markdown",
      "source": [
        "## A feladat megoldása ChatGpt-vel:"
      ],
      "metadata": {
        "id": "B8DJchBEPJ1b"
      }
    },
    {
      "cell_type": "markdown",
      "source": [
        "### Promt:"
      ],
      "metadata": {
        "id": "1Bcs-iKgPXNN"
      }
    },
    {
      "cell_type": "markdown",
      "source": [
        "Egy senior python fejlesztő vagy, aki szintén ért a matematikához, azon belül a kedvenc területed a gráfelmélet. A feladatod a következő: Írj egy olyan programot ami megkeresi az alábbi szövegben az összes alanyt, állítmányt és tárgyat, majd készít egy gráfot pythonban! A gráf élei legyenek az állítmányok, csúcsai az alany és a tárgy.\n",
        "\n",
        "Rejtő Jenő (született Reich, írói álnevei: P. Howard, Gibson Lavery) (Budapest, Erzsébetváros, 1905. március 29.[6] – Jevdakovo(wd), Kamenkai járás, Voronyezsi terület, oroszországi megszállt övezet, Szovjetunió, 1943. január 1.) magyar író, kabaré- és színpadi szerző, filmíró, a magyar szórakoztató irodalom népszerű képviselője és megújítója.\n",
        "\n",
        "Legismertebb művei látszatra ponyvaregények, azonban életművét ma már nagyra értékelik. Kamaszkorában verseket írt (ezeket nem publikálta), majd 1928-tól komor hangulatú novellákat adott közre a napisajtóban. Az 1930-as évek elején kabarédarabokkal és bohózatokkal jelentkezett a pesti színpadokon. Ezzel egyidőben füzetes ponyvákat, majd operetteket, végül – részben külföldi utazásai során szerzett élményeire támaszkodva – kalandregényeket alkotott. Sajátos stílusát egyéni, groteszk, nyelvi humor és „váratlan abszurd fordulatok, szürreális, gyakran kispolgári figurák és a társadalom fanyar humorba csomagolt kritikája”[7] jellemezte. Legnagyobb sikereit P. Howard álnéven írott ponyvaparódiáival aratta, olvasottsága[8] a Kádár-korban Jókai Móréval vetekedett. A pesti művészi élet ismert alakja volt, barátság fűzte a kor jelentős művészeihez, így például Karinthy Frigyeshez,[9] Kabos Gyulához, Latabár Kálmánhoz, Salamon Bélához is."
      ],
      "metadata": {
        "id": "qSJvVYmePcgO"
      }
    },
    {
      "cell_type": "markdown",
      "source": [
        "### Megoldás (hibás)"
      ],
      "metadata": {
        "id": "JUvj8exRQM7S"
      }
    },
    {
      "cell_type": "code",
      "execution_count": 10,
      "metadata": {
        "colab": {
          "base_uri": "https://localhost:8080/"
        },
        "id": "c6JrLF4EK0wb",
        "outputId": "a1051d53-1308-42f1-da8d-afb5f0f1d2e0"
      },
      "outputs": [
        {
          "output_type": "stream",
          "name": "stdout",
          "text": [
            "A 'hu_core_news_lg' modell nincs telepítve. Telepítsd a következő parancsokkal:\n",
            "python -m spacy download hu_core_news_lg\n"
          ]
        }
      ],
      "source": [
        "import spacy\n",
        "import networkx as nx\n",
        "import matplotlib.pyplot as plt\n",
        "\n",
        "def extract_spo(text):\n",
        "    nlp = spacy.load(\"hu_core_news_lg\")  # Magyar nyelvű NLP modell\n",
        "\n",
        "    doc = nlp(text)\n",
        "    spo_list = []\n",
        "\n",
        "    for sent in doc.sents:\n",
        "        subject, predicate, obj = None, None, None\n",
        "\n",
        "        for token in sent:\n",
        "            if \"nsubj\" in token.dep_:\n",
        "                subject = token.text\n",
        "            elif \"ROOT\" in token.dep_:\n",
        "                predicate = token.text\n",
        "            elif \"obj\" in token.dep_:\n",
        "                obj = token.text\n",
        "\n",
        "        if subject and predicate and obj:\n",
        "            spo_list.append((subject, predicate, obj))\n",
        "\n",
        "    return spo_list\n",
        "\n",
        "def create_graph(spo_list):\n",
        "    G = nx.DiGraph()\n",
        "\n",
        "    for subject, predicate, obj in spo_list:\n",
        "        G.add_edge(subject, obj, label=predicate)\n",
        "\n",
        "    return G\n",
        "\n",
        "def draw_graph(G):\n",
        "    pos = nx.spring_layout(G)\n",
        "    plt.figure(figsize=(10, 6))\n",
        "\n",
        "    nx.draw(G, pos, with_labels=True, node_color='lightblue', edge_color='gray', node_size=2000, font_size=10)\n",
        "    edge_labels = {(u, v): d['label'] for u, v, d in G.edges(data=True)}\n",
        "    nx.draw_networkx_edge_labels(G, pos, edge_labels=edge_labels, font_size=10)\n",
        "\n",
        "    plt.show()\n",
        "\n",
        "if __name__ == \"__main__\":\n",
        "    text = \"\"\"Rejtő Jenő legismertebb művei látszatra ponyvaregények. Életművét értékelik. Verseket írt. Novellákat adott közre.\"\"\"\n",
        "    spo_list = extract_spo(text)\n",
        "    if spo_list:\n",
        "        G = create_graph(spo_list)\n",
        "        draw_graph(G)\n",
        "\n"
      ]
    }
  ]
}